{
  "cells": [
    {
      "cell_type": "markdown",
      "metadata": {
        "id": "view-in-github",
        "colab_type": "text"
      },
      "source": [
        "<a href=\"https://colab.research.google.com/github/samobrien878/linearRegression/blob/main/Copy_of_04_hedonic_pricing_completed.ipynb\" target=\"_parent\"><img src=\"https://colab.research.google.com/assets/colab-badge.svg\" alt=\"Open In Colab\"/></a>"
      ]
    },
    {
      "cell_type": "markdown",
      "metadata": {
        "vscode": {
          "languageId": "bat"
        },
        "id": "GQTJil4NcNo7"
      },
      "source": [
        "# Hedonic Pricing\n",
        "\n",
        "We often try to predict the price of an asset from its observable characteristics. This is generally called **hedonic pricing**: How do the unit's characteristics determine its market price?\n",
        "\n",
        "In the lab folder, there are three options: housing prices in pierce_county_house_sales.csv, car prices in cars_hw.csv, and airbnb rental prices in airbnb_hw.csv. If you know of another suitable dataset, please feel free to use that one.\n",
        "\n",
        "1. Clean the data and perform some EDA and visualization to get to know the data set.\n",
        "2. Transform your variables --- particularly categorical ones --- for use in your regression analysis.\n",
        "3. Implement an ~80/~20 train-test split. Put the test data aside.\n",
        "4. Build some simple linear models that include no transformations or interactions. Fit them, and determine their RMSE and $R^2$ on the both the training and test sets. Which of your models does the best?\n",
        "5. Include transformations and interactions, and build a more complex model that reflects your ideas about how the features of the asset determine its value. Determine its RMSE and $R^2$ on the training and test sets. How does the more complex model your build compare to the simpler ones?\n",
        "6. Summarize your results from 1 to 5. Have you learned anything about overfitting and underfitting, or model selection?\n",
        "7. If you have time, use the sklearn.linear_model.Lasso to regularize your model and select the most predictive features. Which does it select? What are the RMSE and $R^2$? We'll cover the Lasso later in detail in class.\n",
        "\n"
      ]
    },
    {
      "cell_type": "code",
      "source": [
        "import pandas as pd\n",
        "import numpy as np\n",
        "import matplotlib.pyplot as plt\n",
        "import seaborn as sns\n",
        "df = pd.read_csv('airbnb_hw.csv')\n",
        "df.head()"
      ],
      "metadata": {
        "id": "_8DXwVklcVa4",
        "colab": {
          "base_uri": "https://localhost:8080/",
          "height": 469
        },
        "outputId": "25b286c7-6cc6-4f9b-da4c-a4ded9fe9a82"
      },
      "execution_count": 2,
      "outputs": [
        {
          "output_type": "execute_result",
          "data": {
            "text/plain": [
              "    Host Id Host Since                                Name Neighbourhood   \\\n",
              "0   5162530        NaN     1 Bedroom in Prime Williamsburg       Brooklyn   \n",
              "1  33134899        NaN     Sunny, Private room in Bushwick       Brooklyn   \n",
              "2  39608626        NaN                Sunny Room in Harlem      Manhattan   \n",
              "3       500  6/26/2008  Gorgeous 1 BR with Private Balcony      Manhattan   \n",
              "4       500  6/26/2008            Trendy Times Square Loft      Manhattan   \n",
              "\n",
              "  Property Type  Review Scores Rating (bin)        Room Type  Zipcode  Beds  \\\n",
              "0     Apartment                         NaN  Entire home/apt  11249.0   1.0   \n",
              "1     Apartment                         NaN     Private room  11206.0   1.0   \n",
              "2     Apartment                         NaN     Private room  10032.0   1.0   \n",
              "3     Apartment                         NaN  Entire home/apt  10024.0   3.0   \n",
              "4     Apartment                        95.0     Private room  10036.0   3.0   \n",
              "\n",
              "   Number of Records  Number Of Reviews Price  Review Scores Rating  \n",
              "0                  1                  0   145                   NaN  \n",
              "1                  1                  1    37                   NaN  \n",
              "2                  1                  1    28                   NaN  \n",
              "3                  1                  0   199                   NaN  \n",
              "4                  1                 39   549                  96.0  "
            ],
            "text/html": [
              "\n",
              "  <div id=\"df-3d5e5807-df00-4e91-98b6-351838afc8ce\" class=\"colab-df-container\">\n",
              "    <div>\n",
              "<style scoped>\n",
              "    .dataframe tbody tr th:only-of-type {\n",
              "        vertical-align: middle;\n",
              "    }\n",
              "\n",
              "    .dataframe tbody tr th {\n",
              "        vertical-align: top;\n",
              "    }\n",
              "\n",
              "    .dataframe thead th {\n",
              "        text-align: right;\n",
              "    }\n",
              "</style>\n",
              "<table border=\"1\" class=\"dataframe\">\n",
              "  <thead>\n",
              "    <tr style=\"text-align: right;\">\n",
              "      <th></th>\n",
              "      <th>Host Id</th>\n",
              "      <th>Host Since</th>\n",
              "      <th>Name</th>\n",
              "      <th>Neighbourhood</th>\n",
              "      <th>Property Type</th>\n",
              "      <th>Review Scores Rating (bin)</th>\n",
              "      <th>Room Type</th>\n",
              "      <th>Zipcode</th>\n",
              "      <th>Beds</th>\n",
              "      <th>Number of Records</th>\n",
              "      <th>Number Of Reviews</th>\n",
              "      <th>Price</th>\n",
              "      <th>Review Scores Rating</th>\n",
              "    </tr>\n",
              "  </thead>\n",
              "  <tbody>\n",
              "    <tr>\n",
              "      <th>0</th>\n",
              "      <td>5162530</td>\n",
              "      <td>NaN</td>\n",
              "      <td>1 Bedroom in Prime Williamsburg</td>\n",
              "      <td>Brooklyn</td>\n",
              "      <td>Apartment</td>\n",
              "      <td>NaN</td>\n",
              "      <td>Entire home/apt</td>\n",
              "      <td>11249.0</td>\n",
              "      <td>1.0</td>\n",
              "      <td>1</td>\n",
              "      <td>0</td>\n",
              "      <td>145</td>\n",
              "      <td>NaN</td>\n",
              "    </tr>\n",
              "    <tr>\n",
              "      <th>1</th>\n",
              "      <td>33134899</td>\n",
              "      <td>NaN</td>\n",
              "      <td>Sunny, Private room in Bushwick</td>\n",
              "      <td>Brooklyn</td>\n",
              "      <td>Apartment</td>\n",
              "      <td>NaN</td>\n",
              "      <td>Private room</td>\n",
              "      <td>11206.0</td>\n",
              "      <td>1.0</td>\n",
              "      <td>1</td>\n",
              "      <td>1</td>\n",
              "      <td>37</td>\n",
              "      <td>NaN</td>\n",
              "    </tr>\n",
              "    <tr>\n",
              "      <th>2</th>\n",
              "      <td>39608626</td>\n",
              "      <td>NaN</td>\n",
              "      <td>Sunny Room in Harlem</td>\n",
              "      <td>Manhattan</td>\n",
              "      <td>Apartment</td>\n",
              "      <td>NaN</td>\n",
              "      <td>Private room</td>\n",
              "      <td>10032.0</td>\n",
              "      <td>1.0</td>\n",
              "      <td>1</td>\n",
              "      <td>1</td>\n",
              "      <td>28</td>\n",
              "      <td>NaN</td>\n",
              "    </tr>\n",
              "    <tr>\n",
              "      <th>3</th>\n",
              "      <td>500</td>\n",
              "      <td>6/26/2008</td>\n",
              "      <td>Gorgeous 1 BR with Private Balcony</td>\n",
              "      <td>Manhattan</td>\n",
              "      <td>Apartment</td>\n",
              "      <td>NaN</td>\n",
              "      <td>Entire home/apt</td>\n",
              "      <td>10024.0</td>\n",
              "      <td>3.0</td>\n",
              "      <td>1</td>\n",
              "      <td>0</td>\n",
              "      <td>199</td>\n",
              "      <td>NaN</td>\n",
              "    </tr>\n",
              "    <tr>\n",
              "      <th>4</th>\n",
              "      <td>500</td>\n",
              "      <td>6/26/2008</td>\n",
              "      <td>Trendy Times Square Loft</td>\n",
              "      <td>Manhattan</td>\n",
              "      <td>Apartment</td>\n",
              "      <td>95.0</td>\n",
              "      <td>Private room</td>\n",
              "      <td>10036.0</td>\n",
              "      <td>3.0</td>\n",
              "      <td>1</td>\n",
              "      <td>39</td>\n",
              "      <td>549</td>\n",
              "      <td>96.0</td>\n",
              "    </tr>\n",
              "  </tbody>\n",
              "</table>\n",
              "</div>\n",
              "    <div class=\"colab-df-buttons\">\n",
              "\n",
              "  <div class=\"colab-df-container\">\n",
              "    <button class=\"colab-df-convert\" onclick=\"convertToInteractive('df-3d5e5807-df00-4e91-98b6-351838afc8ce')\"\n",
              "            title=\"Convert this dataframe to an interactive table.\"\n",
              "            style=\"display:none;\">\n",
              "\n",
              "  <svg xmlns=\"http://www.w3.org/2000/svg\" height=\"24px\" viewBox=\"0 -960 960 960\">\n",
              "    <path d=\"M120-120v-720h720v720H120Zm60-500h600v-160H180v160Zm220 220h160v-160H400v160Zm0 220h160v-160H400v160ZM180-400h160v-160H180v160Zm440 0h160v-160H620v160ZM180-180h160v-160H180v160Zm440 0h160v-160H620v160Z\"/>\n",
              "  </svg>\n",
              "    </button>\n",
              "\n",
              "  <style>\n",
              "    .colab-df-container {\n",
              "      display:flex;\n",
              "      gap: 12px;\n",
              "    }\n",
              "\n",
              "    .colab-df-convert {\n",
              "      background-color: #E8F0FE;\n",
              "      border: none;\n",
              "      border-radius: 50%;\n",
              "      cursor: pointer;\n",
              "      display: none;\n",
              "      fill: #1967D2;\n",
              "      height: 32px;\n",
              "      padding: 0 0 0 0;\n",
              "      width: 32px;\n",
              "    }\n",
              "\n",
              "    .colab-df-convert:hover {\n",
              "      background-color: #E2EBFA;\n",
              "      box-shadow: 0px 1px 2px rgba(60, 64, 67, 0.3), 0px 1px 3px 1px rgba(60, 64, 67, 0.15);\n",
              "      fill: #174EA6;\n",
              "    }\n",
              "\n",
              "    .colab-df-buttons div {\n",
              "      margin-bottom: 4px;\n",
              "    }\n",
              "\n",
              "    [theme=dark] .colab-df-convert {\n",
              "      background-color: #3B4455;\n",
              "      fill: #D2E3FC;\n",
              "    }\n",
              "\n",
              "    [theme=dark] .colab-df-convert:hover {\n",
              "      background-color: #434B5C;\n",
              "      box-shadow: 0px 1px 3px 1px rgba(0, 0, 0, 0.15);\n",
              "      filter: drop-shadow(0px 1px 2px rgba(0, 0, 0, 0.3));\n",
              "      fill: #FFFFFF;\n",
              "    }\n",
              "  </style>\n",
              "\n",
              "    <script>\n",
              "      const buttonEl =\n",
              "        document.querySelector('#df-3d5e5807-df00-4e91-98b6-351838afc8ce button.colab-df-convert');\n",
              "      buttonEl.style.display =\n",
              "        google.colab.kernel.accessAllowed ? 'block' : 'none';\n",
              "\n",
              "      async function convertToInteractive(key) {\n",
              "        const element = document.querySelector('#df-3d5e5807-df00-4e91-98b6-351838afc8ce');\n",
              "        const dataTable =\n",
              "          await google.colab.kernel.invokeFunction('convertToInteractive',\n",
              "                                                    [key], {});\n",
              "        if (!dataTable) return;\n",
              "\n",
              "        const docLinkHtml = 'Like what you see? Visit the ' +\n",
              "          '<a target=\"_blank\" href=https://colab.research.google.com/notebooks/data_table.ipynb>data table notebook</a>'\n",
              "          + ' to learn more about interactive tables.';\n",
              "        element.innerHTML = '';\n",
              "        dataTable['output_type'] = 'display_data';\n",
              "        await google.colab.output.renderOutput(dataTable, element);\n",
              "        const docLink = document.createElement('div');\n",
              "        docLink.innerHTML = docLinkHtml;\n",
              "        element.appendChild(docLink);\n",
              "      }\n",
              "    </script>\n",
              "  </div>\n",
              "\n",
              "\n",
              "<div id=\"df-199c8b85-48c6-4b7e-a5a1-98f95cd0ca1e\">\n",
              "  <button class=\"colab-df-quickchart\" onclick=\"quickchart('df-199c8b85-48c6-4b7e-a5a1-98f95cd0ca1e')\"\n",
              "            title=\"Suggest charts\"\n",
              "            style=\"display:none;\">\n",
              "\n",
              "<svg xmlns=\"http://www.w3.org/2000/svg\" height=\"24px\"viewBox=\"0 0 24 24\"\n",
              "     width=\"24px\">\n",
              "    <g>\n",
              "        <path d=\"M19 3H5c-1.1 0-2 .9-2 2v14c0 1.1.9 2 2 2h14c1.1 0 2-.9 2-2V5c0-1.1-.9-2-2-2zM9 17H7v-7h2v7zm4 0h-2V7h2v10zm4 0h-2v-4h2v4z\"/>\n",
              "    </g>\n",
              "</svg>\n",
              "  </button>\n",
              "\n",
              "<style>\n",
              "  .colab-df-quickchart {\n",
              "      --bg-color: #E8F0FE;\n",
              "      --fill-color: #1967D2;\n",
              "      --hover-bg-color: #E2EBFA;\n",
              "      --hover-fill-color: #174EA6;\n",
              "      --disabled-fill-color: #AAA;\n",
              "      --disabled-bg-color: #DDD;\n",
              "  }\n",
              "\n",
              "  [theme=dark] .colab-df-quickchart {\n",
              "      --bg-color: #3B4455;\n",
              "      --fill-color: #D2E3FC;\n",
              "      --hover-bg-color: #434B5C;\n",
              "      --hover-fill-color: #FFFFFF;\n",
              "      --disabled-bg-color: #3B4455;\n",
              "      --disabled-fill-color: #666;\n",
              "  }\n",
              "\n",
              "  .colab-df-quickchart {\n",
              "    background-color: var(--bg-color);\n",
              "    border: none;\n",
              "    border-radius: 50%;\n",
              "    cursor: pointer;\n",
              "    display: none;\n",
              "    fill: var(--fill-color);\n",
              "    height: 32px;\n",
              "    padding: 0;\n",
              "    width: 32px;\n",
              "  }\n",
              "\n",
              "  .colab-df-quickchart:hover {\n",
              "    background-color: var(--hover-bg-color);\n",
              "    box-shadow: 0 1px 2px rgba(60, 64, 67, 0.3), 0 1px 3px 1px rgba(60, 64, 67, 0.15);\n",
              "    fill: var(--button-hover-fill-color);\n",
              "  }\n",
              "\n",
              "  .colab-df-quickchart-complete:disabled,\n",
              "  .colab-df-quickchart-complete:disabled:hover {\n",
              "    background-color: var(--disabled-bg-color);\n",
              "    fill: var(--disabled-fill-color);\n",
              "    box-shadow: none;\n",
              "  }\n",
              "\n",
              "  .colab-df-spinner {\n",
              "    border: 2px solid var(--fill-color);\n",
              "    border-color: transparent;\n",
              "    border-bottom-color: var(--fill-color);\n",
              "    animation:\n",
              "      spin 1s steps(1) infinite;\n",
              "  }\n",
              "\n",
              "  @keyframes spin {\n",
              "    0% {\n",
              "      border-color: transparent;\n",
              "      border-bottom-color: var(--fill-color);\n",
              "      border-left-color: var(--fill-color);\n",
              "    }\n",
              "    20% {\n",
              "      border-color: transparent;\n",
              "      border-left-color: var(--fill-color);\n",
              "      border-top-color: var(--fill-color);\n",
              "    }\n",
              "    30% {\n",
              "      border-color: transparent;\n",
              "      border-left-color: var(--fill-color);\n",
              "      border-top-color: var(--fill-color);\n",
              "      border-right-color: var(--fill-color);\n",
              "    }\n",
              "    40% {\n",
              "      border-color: transparent;\n",
              "      border-right-color: var(--fill-color);\n",
              "      border-top-color: var(--fill-color);\n",
              "    }\n",
              "    60% {\n",
              "      border-color: transparent;\n",
              "      border-right-color: var(--fill-color);\n",
              "    }\n",
              "    80% {\n",
              "      border-color: transparent;\n",
              "      border-right-color: var(--fill-color);\n",
              "      border-bottom-color: var(--fill-color);\n",
              "    }\n",
              "    90% {\n",
              "      border-color: transparent;\n",
              "      border-bottom-color: var(--fill-color);\n",
              "    }\n",
              "  }\n",
              "</style>\n",
              "\n",
              "  <script>\n",
              "    async function quickchart(key) {\n",
              "      const quickchartButtonEl =\n",
              "        document.querySelector('#' + key + ' button');\n",
              "      quickchartButtonEl.disabled = true;  // To prevent multiple clicks.\n",
              "      quickchartButtonEl.classList.add('colab-df-spinner');\n",
              "      try {\n",
              "        const charts = await google.colab.kernel.invokeFunction(\n",
              "            'suggestCharts', [key], {});\n",
              "      } catch (error) {\n",
              "        console.error('Error during call to suggestCharts:', error);\n",
              "      }\n",
              "      quickchartButtonEl.classList.remove('colab-df-spinner');\n",
              "      quickchartButtonEl.classList.add('colab-df-quickchart-complete');\n",
              "    }\n",
              "    (() => {\n",
              "      let quickchartButtonEl =\n",
              "        document.querySelector('#df-199c8b85-48c6-4b7e-a5a1-98f95cd0ca1e button');\n",
              "      quickchartButtonEl.style.display =\n",
              "        google.colab.kernel.accessAllowed ? 'block' : 'none';\n",
              "    })();\n",
              "  </script>\n",
              "</div>\n",
              "\n",
              "    </div>\n",
              "  </div>\n"
            ],
            "application/vnd.google.colaboratory.intrinsic+json": {
              "type": "dataframe",
              "variable_name": "df",
              "summary": "{\n  \"name\": \"df\",\n  \"rows\": 30478,\n  \"fields\": [\n    {\n      \"column\": \"Host Id\",\n      \"properties\": {\n        \"dtype\": \"number\",\n        \"std\": 11902702,\n        \"min\": 500,\n        \"max\": 43033067,\n        \"num_unique_values\": 24421,\n        \"samples\": [\n          24093114,\n          16925490,\n          2886652\n        ],\n        \"semantic_type\": \"\",\n        \"description\": \"\"\n      }\n    },\n    {\n      \"column\": \"Host Since\",\n      \"properties\": {\n        \"dtype\": \"date\",\n        \"min\": \"2008-06-26 00:00:00\",\n        \"max\": \"2015-08-31 00:00:00\",\n        \"num_unique_values\": 2240,\n        \"samples\": [\n          \"5/20/2010\",\n          \"7/2/2009\",\n          \"4/18/2015\"\n        ],\n        \"semantic_type\": \"\",\n        \"description\": \"\"\n      }\n    },\n    {\n      \"column\": \"Name\",\n      \"properties\": {\n        \"dtype\": \"string\",\n        \"num_unique_values\": 29413,\n        \"samples\": [\n          \"Explore the beauty of Brooklyn\",\n          \"Sunny Room in Williamsburg Loft\",\n          \"cozy one bedroom in lower east side\"\n        ],\n        \"semantic_type\": \"\",\n        \"description\": \"\"\n      }\n    },\n    {\n      \"column\": \"Neighbourhood \",\n      \"properties\": {\n        \"dtype\": \"category\",\n        \"num_unique_values\": 5,\n        \"samples\": [\n          \"Manhattan\",\n          \"Staten Island\",\n          \"Queens\"\n        ],\n        \"semantic_type\": \"\",\n        \"description\": \"\"\n      }\n    },\n    {\n      \"column\": \"Property Type\",\n      \"properties\": {\n        \"dtype\": \"category\",\n        \"num_unique_values\": 19,\n        \"samples\": [\n          \"Apartment\",\n          \"Condominium\",\n          \"Bungalow\"\n        ],\n        \"semantic_type\": \"\",\n        \"description\": \"\"\n      }\n    },\n    {\n      \"column\": \"Review Scores Rating (bin)\",\n      \"properties\": {\n        \"dtype\": \"number\",\n        \"std\": 9.05951861814779,\n        \"min\": 20.0,\n        \"max\": 100.0,\n        \"num_unique_values\": 15,\n        \"samples\": [\n          40.0,\n          20.0,\n          95.0\n        ],\n        \"semantic_type\": \"\",\n        \"description\": \"\"\n      }\n    },\n    {\n      \"column\": \"Room Type\",\n      \"properties\": {\n        \"dtype\": \"category\",\n        \"num_unique_values\": 3,\n        \"samples\": [\n          \"Entire home/apt\",\n          \"Private room\",\n          \"Shared room\"\n        ],\n        \"semantic_type\": \"\",\n        \"description\": \"\"\n      }\n    },\n    {\n      \"column\": \"Zipcode\",\n      \"properties\": {\n        \"dtype\": \"number\",\n        \"std\": 921.2993969568683,\n        \"min\": 1003.0,\n        \"max\": 99135.0,\n        \"num_unique_values\": 188,\n        \"samples\": [\n          11414.0,\n          11239.0,\n          11365.0\n        ],\n        \"semantic_type\": \"\",\n        \"description\": \"\"\n      }\n    },\n    {\n      \"column\": \"Beds\",\n      \"properties\": {\n        \"dtype\": \"number\",\n        \"std\": 1.0153587174802678,\n        \"min\": 0.0,\n        \"max\": 16.0,\n        \"num_unique_values\": 14,\n        \"samples\": [\n          12.0,\n          16.0,\n          1.0\n        ],\n        \"semantic_type\": \"\",\n        \"description\": \"\"\n      }\n    },\n    {\n      \"column\": \"Number of Records\",\n      \"properties\": {\n        \"dtype\": \"number\",\n        \"std\": 0,\n        \"min\": 1,\n        \"max\": 1,\n        \"num_unique_values\": 1,\n        \"samples\": [\n          1\n        ],\n        \"semantic_type\": \"\",\n        \"description\": \"\"\n      }\n    },\n    {\n      \"column\": \"Number Of Reviews\",\n      \"properties\": {\n        \"dtype\": \"number\",\n        \"std\": 21,\n        \"min\": 0,\n        \"max\": 257,\n        \"num_unique_values\": 205,\n        \"samples\": [\n          171\n        ],\n        \"semantic_type\": \"\",\n        \"description\": \"\"\n      }\n    },\n    {\n      \"column\": \"Price\",\n      \"properties\": {\n        \"dtype\": \"category\",\n        \"num_unique_values\": 511,\n        \"samples\": [\n          \"299\"\n        ],\n        \"semantic_type\": \"\",\n        \"description\": \"\"\n      }\n    },\n    {\n      \"column\": \"Review Scores Rating\",\n      \"properties\": {\n        \"dtype\": \"number\",\n        \"std\": 8.850373136231884,\n        \"min\": 20.0,\n        \"max\": 100.0,\n        \"num_unique_values\": 51,\n        \"samples\": [\n          58.0\n        ],\n        \"semantic_type\": \"\",\n        \"description\": \"\"\n      }\n    }\n  ]\n}"
            }
          },
          "metadata": {},
          "execution_count": 2
        }
      ]
    },
    {
      "cell_type": "code",
      "source": [
        "df['Price'] = pd.to_numeric(df['Price'].str.replace(',',''))\n",
        "df.isnull().sum().sum()\n",
        "df.columns = df.columns.str.strip()\n",
        "data = df[['Neighbourhood', 'Property Type', 'Review Scores Rating', 'Price']]\n",
        "data = data.dropna()\n",
        "data['Price'] = pd.to_numeric(data['Price'], errors='coerce')"
      ],
      "metadata": {
        "id": "Y7jvNnk3dxsw"
      },
      "execution_count": 3,
      "outputs": []
    },
    {
      "source": [
        "df.columns = df.columns.str.strip()\n",
        "\n",
        "print(df.groupby('Neighbourhood')['Price'].describe())"
      ],
      "cell_type": "code",
      "metadata": {
        "colab": {
          "base_uri": "https://localhost:8080/"
        },
        "collapsed": true,
        "id": "abxpybl6dnwc",
        "outputId": "8e17628a-561a-4a59-8de8-424c13e0ce65"
      },
      "execution_count": 4,
      "outputs": [
        {
          "output_type": "stream",
          "name": "stdout",
          "text": [
            "                 count        mean         std   min    25%    50%    75%  \\\n",
            "Neighbourhood                                                               \n",
            "Bronx            345.0   94.660870  218.421021  10.0   50.0   69.0   99.0   \n",
            "Brooklyn       11675.0  129.500471  155.387024  10.0   70.0  100.0  150.0   \n",
            "Manhattan      16033.0  198.474584  221.814807  20.0  100.0  155.0  225.0   \n",
            "Queens          2278.0  103.222125  119.559563  25.0   60.0   80.0  120.0   \n",
            "Staten Island    147.0  163.462585  450.109002  35.0   59.0   79.0  109.0   \n",
            "\n",
            "                   max  \n",
            "Neighbourhood           \n",
            "Bronx           4000.0  \n",
            "Brooklyn        8000.0  \n",
            "Manhattan      10000.0  \n",
            "Queens          4000.0  \n",
            "Staten Island   5000.0  \n"
          ]
        }
      ]
    },
    {
      "cell_type": "code",
      "source": [
        "print(df.groupby('Property Type')['Price'].describe())"
      ],
      "metadata": {
        "colab": {
          "base_uri": "https://localhost:8080/"
        },
        "collapsed": true,
        "id": "umay7goHeCJp",
        "outputId": "d7e4694b-6fd7-4e7f-d815-26630f4ddae4"
      },
      "execution_count": 83,
      "outputs": [
        {
          "output_type": "stream",
          "name": "stdout",
          "text": [
            "                   count        mean         std    min     25%    50%  \\\n",
            "Property Type                                                            \n",
            "Apartment        27102.0  162.045642  181.376882   10.0   85.00  130.0   \n",
            "Bed & Breakfast    180.0  106.572222   84.701977   30.0   65.00   87.5   \n",
            "Boat                 8.0  153.625000   49.231051  100.0  120.00  137.5   \n",
            "Bungalow             4.0  150.750000   46.464144   87.0  133.50  160.5   \n",
            "Cabin                2.0  165.000000  120.208153   80.0  122.50  165.0   \n",
            "Camper/RV            7.0  103.571429  102.343958   39.0   47.00   49.0   \n",
            "Castle               1.0  150.000000         NaN  150.0  150.00  150.0   \n",
            "Chalet               1.0   99.000000         NaN   99.0   99.00   99.0   \n",
            "Condominium         94.0  256.585106  249.357946   46.0  131.25  175.0   \n",
            "Dorm                31.0   76.354839   42.424481   30.0   52.50   65.0   \n",
            "House             2090.0  156.722967  307.116948   10.0   60.00   85.0   \n",
            "Hut                  2.0   75.000000   35.355339   50.0   62.50   75.0   \n",
            "Lighthouse           1.0   39.000000         NaN   39.0   39.00   39.0   \n",
            "Loft               753.0  221.960159  271.958145   30.0   80.00  140.0   \n",
            "Other               47.0  394.659574  696.663423   39.0   82.50  135.0   \n",
            "Tent                 4.0  126.250000   94.989034   40.0   58.75  107.5   \n",
            "Townhouse          136.0  203.933824  264.178901   45.0   89.50  135.0   \n",
            "Treehouse            4.0  149.500000  100.520313   95.0   95.00  101.5   \n",
            "Villa                8.0  328.000000  479.888975   60.0  107.50  187.5   \n",
            "\n",
            "                    75%      max  \n",
            "Property Type                     \n",
            "Apartment        195.00  10000.0  \n",
            "Bed & Breakfast  125.00    900.0  \n",
            "Boat             178.50    250.0  \n",
            "Bungalow         177.75    195.0  \n",
            "Cabin            207.50    250.0  \n",
            "Camper/RV        109.00    325.0  \n",
            "Castle           150.00    150.0  \n",
            "Chalet            99.00     99.0  \n",
            "Condominium      298.75   1990.0  \n",
            "Dorm              80.00    200.0  \n",
            "House            150.00   8000.0  \n",
            "Hut               87.50    100.0  \n",
            "Lighthouse        39.00     39.0  \n",
            "Loft             240.00   3000.0  \n",
            "Other            378.00   4000.0  \n",
            "Tent             175.00    250.0  \n",
            "Townhouse        206.25   2500.0  \n",
            "Treehouse        156.00    300.0  \n",
            "Villa            224.75   1500.0  \n"
          ]
        }
      ]
    },
    {
      "source": [
        "avg_rent_by_neighborhood = data.groupby('Neighbourhood')['Price'].mean().reset_index()\n",
        "\n",
        "plt.figure(figsize=(12, 6))\n",
        "sns.barplot(data=avg_rent_by_neighborhood, x='Neighbourhood', y='Price')\n",
        "plt.title('Average Rent by Neighborhood')\n",
        "plt.xlabel('Neighborhood')\n",
        "plt.ylabel('Average Rent')\n",
        "plt.xticks(rotation=90)\n",
        "plt.tight_layout()\n",
        "plt.show()"
      ],
      "cell_type": "code",
      "metadata": {
        "colab": {
          "base_uri": "https://localhost:8080/",
          "height": 363
        },
        "id": "-lZc-sUOgBDw",
        "outputId": "b1b59e24-2317-43b9-e701-a941728d0afe"
      },
      "execution_count": 5,
      "outputs": [
        {
          "output_type": "display_data",
          "data": {
            "text/plain": [
              "<Figure size 1200x600 with 1 Axes>"
            ],
            "image/png": "[encoded data removed]"
          },
          "metadata": {}
        }
      ]
    },
    {
      "source": [
        "plt.figure(figsize=(10, 6))\n",
        "sns.histplot(data['Price'], bins=30, kde=True)\n",
        "plt.title('Distribution of Prices')\n",
        "plt.xlabel('Price')\n",
        "plt.ylabel('Frequency')\n",
        "plt.show()"
      ],
      "cell_type": "code",
      "metadata": {
        "colab": {
          "base_uri": "https://localhost:8080/",
          "height": 456
        },
        "id": "no8ZVAPOgWab",
        "outputId": "9ca3eaf1-3ca3-4560-a726-862d6b90674e"
      },
      "execution_count": 6,
      "outputs": [
        {
          "output_type": "display_data",
          "data": {
            "text/plain": [
              "<Figure size 1000x600 with 1 Axes>"
            ],
            "image/png": "[encoded data removed]"
          },
          "metadata": {}
        }
      ]
    },
    {
      "cell_type": "markdown",
      "source": [
        "Ut oh, we are right skewed, lets make sure to normalize price moving forward..."
      ],
      "metadata": {
        "id": "bmr69X-_Xize"
      }
    },
    {
      "source": [
        "plt.figure(figsize=(10, 6))\n",
        "sns.histplot(np.log1p(data['Price']), bins=30, kde=True)\n",
        "plt.title('Distribution of Log(Price + 1)')\n",
        "plt.xlabel('Log(Price + 1)')\n",
        "plt.ylabel('Frequency')\n",
        "plt.show()"
      ],
      "cell_type": "code",
      "metadata": {
        "colab": {
          "base_uri": "https://localhost:8080/",
          "height": 461
        },
        "id": "YhGpLzraW5b4",
        "outputId": "0177efeb-34b4-4584-f5cf-1fbee1af67ed"
      },
      "execution_count": 7,
      "outputs": [
        {
          "output_type": "display_data",
          "data": {
            "text/plain": [
              "<Figure size 1000x600 with 1 Axes>"
            ],
            "image/png": "[encoded data removed]"
          },
          "metadata": {}
        }
      ]
    },
    {
      "cell_type": "code",
      "source": [
        "df.columns"
      ],
      "metadata": {
        "colab": {
          "base_uri": "https://localhost:8080/"
        },
        "id": "h2NMHvWlkn2x",
        "outputId": "a24d8317-70a9-4547-ddce-5b8251370cc9"
      },
      "execution_count": 50,
      "outputs": [
        {
          "output_type": "execute_result",
          "data": {
            "text/plain": [
              "Index(['Host Id', 'Host Since', 'Name', 'Neighbourhood', 'Property Type',\n",
              "       'Review Scores Rating (bin)', 'Room Type', 'Zipcode', 'Beds',\n",
              "       'Number of Records', 'Number Of Reviews', 'Price',\n",
              "       'Review Scores Rating'],\n",
              "      dtype='object')"
            ]
          },
          "metadata": {},
          "execution_count": 50
        }
      ]
    },
    {
      "cell_type": "markdown",
      "source": [
        "#End of EDA, beginning of regression:"
      ],
      "metadata": {
        "id": "WsCD9R5hg8z6"
      }
    },
    {
      "cell_type": "code",
      "source": [
        "import pandas as pd\n",
        "import numpy as np\n",
        "from sklearn.model_selection import train_test_split\n",
        "from sklearn.linear_model import LinearRegression\n",
        "from sklearn.metrics import mean_squared_error, r2_score\n",
        "\n",
        "df_cleaned = df.drop(columns=['Name', 'Host Id', 'Host Since'])\n",
        "\n",
        "df_cleaned['Price'] = df_cleaned['Price'].astype(float)\n",
        "\n",
        "df_cleaned['Price'] = np.log1p(df_cleaned['Price'])\n",
        "numeric_columns = df_cleaned.select_dtypes(include=np.number).columns\n",
        "df_cleaned[numeric_columns] = df_cleaned[numeric_columns].apply(np.log1p)\n",
        "\n",
        "df_encoded = pd.get_dummies(df_cleaned, columns=['Neighbourhood', 'Property Type', 'Room Type'], drop_first=True)\n",
        "\n",
        "df_encoded.dropna(inplace=True)\n",
        "\n",
        "X = df_encoded.drop(columns=['Price'])\n",
        "y = df_encoded['Price']\n",
        "X_train, X_test, y_train, y_test = train_test_split(X, y, test_size=0.2, random_state=42)\n",
        "\n",
        "model_simple = LinearRegression()\n",
        "model_simple.fit(X_train, y_train)\n",
        "y_train_pred = model_simple.predict(X_train)\n",
        "y_test_pred = model_simple.predict(X_test)\n",
        "\n",
        "rmse_train = np.sqrt(mean_squared_error(y_train, y_train_pred))\n",
        "rmse_test = np.sqrt(mean_squared_error(y_test, y_test_pred))\n",
        "r2_train = r2_score(y_train, y_train_pred)\n",
        "r2_test = r2_score(y_test, y_test_pred)\n",
        "\n",
        "print(\"Simple Model Performance:\")\n",
        "print(f\"Training RMSE: {rmse_train:.2f}, R squared: {r2_train:.2f}\")\n",
        "print(f\"Test RMSE: {rmse_test:.2f}, R squared: {r2_test:.2f}\")\n",
        "\n"
      ],
      "metadata": {
        "colab": {
          "base_uri": "https://localhost:8080/"
        },
        "id": "HNn5kSQSmDCv",
        "outputId": "220577da-fec0-4722-898e-2e5586eb05e6"
      },
      "execution_count": 104,
      "outputs": [
        {
          "output_type": "stream",
          "name": "stdout",
          "text": [
            "Simple Model Performance:\n",
            "Training RMSE: 0.06, R squared: 0.61\n",
            "Test RMSE: 0.06, R squared: 0.61\n"
          ]
        }
      ]
    },
    {
      "cell_type": "code",
      "source": [
        "from sklearn.preprocessing import PolynomialFeatures\n",
        "\n",
        "\n",
        "df_cleaned['Price'] = df_cleaned['Price'].astype(float)\n",
        "\n",
        "df_encoded = pd.get_dummies(df_cleaned, columns=['Neighbourhood', 'Property Type', 'Room Type'], drop_first=True)\n",
        "df_encoded.dropna(inplace=True)\n",
        "\n",
        "X = df_encoded.drop(columns=['Price'])\n",
        "y = df_encoded['Price']\n",
        "\n",
        "numeric_cols = X.select_dtypes(include=[np.number]).columns\n",
        "X[numeric_cols] = np.log1p(X[numeric_cols])\n",
        "\n",
        "poly = PolynomialFeatures(interaction_only=True, include_bias=False)\n",
        "X_interactions = poly.fit_transform(X)\n",
        "\n",
        "X_train, X_test, y_train, y_test = train_test_split(X_interactions, y, test_size=0.2, random_state=42)\n",
        "\n",
        "model_complex = LinearRegression()\n",
        "model_complex.fit(X_train, y_train)\n",
        "\n",
        "y_train_pred_complex = model_complex.predict(X_train)\n",
        "y_test_pred_complex = model_complex.predict(X_test)\n",
        "\n",
        "rmse_train_complex = np.sqrt(mean_squared_error(y_train, y_train_pred_complex))\n",
        "rmse_test_complex = np.sqrt(mean_squared_error(y_test, y_test_pred_complex))\n",
        "r2_train_complex = r2_score(y_train, y_train_pred_complex)\n",
        "r2_test_complex = r2_score(y_test, y_test_pred_complex)\n",
        "\n",
        "print(\"Complex Model Performance:\")\n",
        "print(f\"Training RMSE: {rmse_train_complex:.2f}, R²: {r2_train_complex:.2f}\")\n",
        "print(f\"Test RMSE: {rmse_test_complex:.2f}, R²: {r2_test_complex:.2f}\")\n"
      ],
      "metadata": {
        "colab": {
          "base_uri": "https://localhost:8080/"
        },
        "id": "VT3eAb7LmsM5",
        "outputId": "ca540baa-9c41-4732-f70f-2b61c630a797"
      },
      "execution_count": 105,
      "outputs": [
        {
          "output_type": "stream",
          "name": "stdout",
          "text": [
            "Complex Model Performance:\n",
            "Training RMSE: 0.06, R²: 0.63\n",
            "Test RMSE: 67795.29, R²: -476233962611.24\n"
          ]
        }
      ]
    },
    {
      "cell_type": "markdown",
      "source": [
        "My biggest takeaway is that more variables isnt always better. For instance, even though the complex model training appears to be similar in performance to the simple model, when tested it fails to hold up to that standard. This is an instance of overfitting, or that there is too much noise to for the model to predict well on the test set."
      ],
      "metadata": {
        "id": "ZaH3iLGxq-Gx"
      }
    },
    {
      "cell_type": "code",
      "source": [
        "import pandas as pd\n",
        "import numpy as np\n",
        "from sklearn.model_selection import train_test_split\n",
        "from sklearn.linear_model import Lasso, LassoCV\n",
        "from sklearn.metrics import mean_squared_error, r2_score\n",
        "from sklearn.preprocessing import StandardScaler\n",
        "\n",
        "df = pd.read_csv('airbnb_hw.csv')\n",
        "\n",
        "df = df.drop(['Host Since', 'Name', 'Host Id', 'Review Scores Rating (bin)'], axis=1)\n",
        "df = df.dropna()\n",
        "df.columns = df.columns.str.strip()\n",
        "\n",
        "df['Price'] = df['Price'].replace(',', '', regex=True).astype(float)\n",
        "df['Price'] = np.log1p(df['Price'])\n",
        "\n",
        "df = pd.get_dummies(df, columns=['Neighbourhood', 'Property Type', 'Room Type'], drop_first=True)\n",
        "\n",
        "X = df.drop(['Price'], axis=1)\n",
        "y = df['Price']\n",
        "\n",
        "X_train, X_test, y_train, y_test = train_test_split(X, y, test_size=0.2, random_state=42)\n",
        "\n",
        "scaler = StandardScaler()\n",
        "X_train_scaled = scaler.fit_transform(X_train)\n",
        "X_test_scaled = scaler.transform(X_test)\n",
        "\n",
        "\n",
        "# LASSO MODEL ATTEMPT\n",
        "lasso_model = Lasso(alpha=.1)\n",
        "lasso_model.fit(X_train_scaled, y_train)\n",
        "\n",
        "selected_features = X.columns[lasso_model.coef_ != 0]\n",
        "print(\"Selected Features by Lasso Model:\")\n",
        "print(selected_features)\n",
        "\n",
        "\n",
        "y_train_pred_lasso = lasso_model.predict(X_train_scaled)\n",
        "y_test_pred_lasso = lasso_model.predict(X_test_scaled)\n",
        "\n",
        "rmse_train_lasso = np.sqrt(mean_squared_error(y_train, y_train_pred_lasso))\n",
        "rmse_test_lasso = np.sqrt(mean_squared_error(y_test, y_test_pred_lasso))\n",
        "r2_train_lasso = r2_score(y_train, y_train_pred_lasso)\n",
        "r2_test_lasso = r2_score(y_test, y_test_pred_lasso)\n",
        "\n",
        "print(\"Lasso Model Performance:\")\n",
        "print(f\"Training RMSE: {rmse_train_lasso:.2f}, R squared: {r2_train_lasso:.2f}\")\n",
        "print(f\"Test RMSE: {rmse_test_lasso:.2f}, R squared: {r2_test_lasso:.2f}\")\n"
      ],
      "metadata": {
        "colab": {
          "base_uri": "https://localhost:8080/"
        },
        "id": "_QL_C2keoTsw",
        "outputId": "7abf7d5d-8c99-4b95-9186-163973c46377"
      },
      "execution_count": 8,
      "outputs": [
        {
          "output_type": "stream",
          "name": "stdout",
          "text": [
            "Selected Features by Lasso Model:\n",
            "Index(['Beds', 'Neighbourhood_Manhattan', 'Room Type_Private room',\n",
            "       'Room Type_Shared room'],\n",
            "      dtype='object')\n",
            "Lasso Model Performance:\n",
            "Training RMSE: 0.42, R squared: 0.47\n",
            "Test RMSE: 0.43, R squared: 0.46\n"
          ]
        }
      ]
    },
    {
      "cell_type": "code",
      "source": [],
      "metadata": {
        "id": "vBfvdIcDXerG"
      },
      "execution_count": null,
      "outputs": []
    }
  ],
  "metadata": {
    "kernelspec": {
      "display_name": "base",
      "language": "python",
      "name": "python3"
    },
    "language_info": {
      "codemirror_mode": {
        "name": "ipython",
        "version": 3
      },
      "file_extension": ".py",
      "mimetype": "text/x-python",
      "name": "python",
      "nbconvert_exporter": "python",
      "pygments_lexer": "ipython3",
      "version": "3.12.2"
    },
    "colab": {
      "provenance": [],
      "include_colab_link": true
    }
  },
  "nbformat": 4,
  "nbformat_minor": 0
}